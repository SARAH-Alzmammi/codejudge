{
 "cells": [
  {
   "cell_type": "code",
   "execution_count": 3,
   "metadata": {
    "collapsed": true,
    "ExecuteTime": {
     "end_time": "2024-03-12T22:03:44.778393400Z",
     "start_time": "2024-03-12T22:03:40.592281700Z"
    }
   },
   "outputs": [
    {
     "name": "stdout",
     "output_type": "stream",
     "text": [
      "\n",
      "Analysis for Lab Exam Mohammed.cpp: {'for_loops': 0, 'while_loops': 0, 'if_statements': 0, 'variable_declarations': 2, 'proper_datatype_usage': 2, 'while_syntax': 0, 'if_syntax': 0}\n",
      "\u001B[31mLab Exam Mohammed.cpp: Compilation failed.\u001B[0m\n",
      "\u001B[34m{'errors': ['Missing include directive for <iomanip>', 'Using setprecision without including <iomanip>'], 'needs_manual_review': True}\u001B[0m\n",
      "\n",
      "Analysis for Lab Exam Sarah Zmami.cpp: {'for_loops': 0, 'while_loops': 0, 'if_statements': 0, 'variable_declarations': 2, 'proper_datatype_usage': 2, 'while_syntax': 0, 'if_syntax': 0}\n",
      "\u001B[32mSmall Dimensions: Passed\u001B[0m\n",
      "\u001B[32mSquare Room: Passed\u001B[0m\n",
      "\n",
      "Total submissions processed: 2\n"
     ]
    }
   ],
   "source": [
    "from codejudge.engine import CodeJudge\n",
    "\n",
    "judge = CodeJudge(problem=\"Students are tasked with calculating the floor area of his potion room. With precision as the utmost priority, students must input the classroom's exact measurements to determine the available space for Snape's cauldrons and ingredients. It's a test of accuracy and attention to detail, where even the slightest error won't escape Snape's critical eye.\",submissions_dir=\"students_submission\",testcases_dir=\"testcases\")\n",
    "\n",
    "judge.process_submissions()"
   ]
  }
 ],
 "metadata": {
  "kernelspec": {
   "display_name": "Python 3",
   "language": "python",
   "name": "python3"
  },
  "language_info": {
   "codemirror_mode": {
    "name": "ipython",
    "version": 2
   },
   "file_extension": ".py",
   "mimetype": "text/x-python",
   "name": "python",
   "nbconvert_exporter": "python",
   "pygments_lexer": "ipython2",
   "version": "2.7.6"
  }
 },
 "nbformat": 4,
 "nbformat_minor": 0
}
